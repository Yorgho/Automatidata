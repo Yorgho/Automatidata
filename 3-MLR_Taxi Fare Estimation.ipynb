{
 "cells": [
  {
   "cell_type": "markdown",
   "id": "2b063f6c",
   "metadata": {},
   "source": [
    "## Multiple Linear Regression: (MLR)"
   ]
  },
  {
   "cell_type": "markdown",
   "id": "9835f0e6",
   "metadata": {},
   "source": [
    "**Multiple linear regression has five main assumptions that provide validity to the results derived from the analysis**\n",
    "1.\tLinearity: Each predictor variable (Xi) is linearly related to the outcome variable (Y).(Already proved in previous steps)\n",
    "2.\t(Multivariate) normality: The errors are normally distributed.*\n",
    "3.\tIndependent observations: Each observation in the dataset is independent.\n",
    "4.\tHomoscedasticity: The variation of the errors is constant or similar across the model.*\n",
    "5.\tNo multicollinearity: No two independent variables (Xi and Xj) can be highly correlated with each other.\n"
   ]
  },
  {
   "cell_type": "code",
   "execution_count": 1,
   "id": "8f8840f4",
   "metadata": {},
   "outputs": [],
   "source": [
    "# Imports\n",
    "# Packages for numerics + dataframes\n",
    "import pandas as pd\n",
    "import numpy as np\n",
    "import math\n",
    "# Packages for visualization\n",
    "import matplotlib.pyplot as plt\n",
    "import seaborn as sns\n",
    "\n",
    "# Packages for date conversions for calculating trip durations\n",
    "from datetime import datetime\n",
    "from datetime import date\n",
    "from datetime import timedelta\n",
    "\n",
    "# Packages for OLS, MLR, confusion matrix\n",
    "import statsmodels.api as sm            #### qqplot Normality model assumption\n",
    "from statsmodels.formula.api import ols ### model creation package\n",
    "from statsmodels.stats.outliers_influence import variance_inflation_factor #### Multicollinearity VIF factor \n",
    "from statsmodels.stats.multicomp import pairwise_tukeyhsd   ##### create post hoc test\n",
    "from sklearn.preprocessing import StandardScaler\n",
    "from sklearn.model_selection import train_test_split\n",
    "import sklearn.metrics as metrics # For confusion matrix\n",
    "from sklearn.linear_model import LinearRegression\n",
    "from sklearn.metrics import mean_absolute_error,r2_score,mean_squared_error"
   ]
  },
  {
   "cell_type": "code",
   "execution_count": 4,
   "id": "7b496324",
   "metadata": {},
   "outputs": [],
   "source": [
    "df=pd.read_csv(r\"C:\\Users\\yorgh\\Documents\\Course Materials\\Google Advanced Data Analytics Course\\Datasets Exercise\\Automatidata project\\2017_Yellow_Taxi_Trip_Features_engineering.csv\")"
   ]
  },
  {
   "cell_type": "code",
   "execution_count": 5,
   "id": "04026d8f",
   "metadata": {},
   "outputs": [
    {
     "data": {
      "text/html": [
       "<div>\n",
       "<style scoped>\n",
       "    .dataframe tbody tr th:only-of-type {\n",
       "        vertical-align: middle;\n",
       "    }\n",
       "\n",
       "    .dataframe tbody tr th {\n",
       "        vertical-align: top;\n",
       "    }\n",
       "\n",
       "    .dataframe thead th {\n",
       "        text-align: right;\n",
       "    }\n",
       "</style>\n",
       "<table border=\"1\" class=\"dataframe\">\n",
       "  <thead>\n",
       "    <tr style=\"text-align: right;\">\n",
       "      <th></th>\n",
       "      <th>mean_distance</th>\n",
       "      <th>mean_duration</th>\n",
       "      <th>total_amount</th>\n",
       "      <th>rush_hour</th>\n",
       "    </tr>\n",
       "  </thead>\n",
       "  <tbody>\n",
       "    <tr>\n",
       "      <th>0</th>\n",
       "      <td>3.521667</td>\n",
       "      <td>22.847222</td>\n",
       "      <td>13.8</td>\n",
       "      <td>0</td>\n",
       "    </tr>\n",
       "    <tr>\n",
       "      <th>1</th>\n",
       "      <td>3.108889</td>\n",
       "      <td>24.470370</td>\n",
       "      <td>16.8</td>\n",
       "      <td>0</td>\n",
       "    </tr>\n",
       "    <tr>\n",
       "      <th>2</th>\n",
       "      <td>0.881429</td>\n",
       "      <td>7.250000</td>\n",
       "      <td>7.3</td>\n",
       "      <td>1</td>\n",
       "    </tr>\n",
       "    <tr>\n",
       "      <th>3</th>\n",
       "      <td>3.700000</td>\n",
       "      <td>30.250000</td>\n",
       "      <td>21.3</td>\n",
       "      <td>0</td>\n",
       "    </tr>\n",
       "    <tr>\n",
       "      <th>4</th>\n",
       "      <td>4.435000</td>\n",
       "      <td>14.616667</td>\n",
       "      <td>17.8</td>\n",
       "      <td>0</td>\n",
       "    </tr>\n",
       "    <tr>\n",
       "      <th>...</th>\n",
       "      <td>...</td>\n",
       "      <td>...</td>\n",
       "      <td>...</td>\n",
       "      <td>...</td>\n",
       "    </tr>\n",
       "    <tr>\n",
       "      <th>21917</th>\n",
       "      <td>1.062778</td>\n",
       "      <td>8.095370</td>\n",
       "      <td>8.8</td>\n",
       "      <td>0</td>\n",
       "    </tr>\n",
       "    <tr>\n",
       "      <th>21918</th>\n",
       "      <td>1.098214</td>\n",
       "      <td>8.594643</td>\n",
       "      <td>5.8</td>\n",
       "      <td>1</td>\n",
       "    </tr>\n",
       "    <tr>\n",
       "      <th>21919</th>\n",
       "      <td>0.684242</td>\n",
       "      <td>6.609091</td>\n",
       "      <td>5.3</td>\n",
       "      <td>0</td>\n",
       "    </tr>\n",
       "    <tr>\n",
       "      <th>21920</th>\n",
       "      <td>2.077500</td>\n",
       "      <td>16.650000</td>\n",
       "      <td>11.3</td>\n",
       "      <td>0</td>\n",
       "    </tr>\n",
       "    <tr>\n",
       "      <th>21921</th>\n",
       "      <td>1.476970</td>\n",
       "      <td>9.405556</td>\n",
       "      <td>11.8</td>\n",
       "      <td>0</td>\n",
       "    </tr>\n",
       "  </tbody>\n",
       "</table>\n",
       "<p>21922 rows × 4 columns</p>\n",
       "</div>"
      ],
      "text/plain": [
       "       mean_distance  mean_duration  total_amount  rush_hour\n",
       "0           3.521667      22.847222          13.8          0\n",
       "1           3.108889      24.470370          16.8          0\n",
       "2           0.881429       7.250000           7.3          1\n",
       "3           3.700000      30.250000          21.3          0\n",
       "4           4.435000      14.616667          17.8          0\n",
       "...              ...            ...           ...        ...\n",
       "21917       1.062778       8.095370           8.8          0\n",
       "21918       1.098214       8.594643           5.8          1\n",
       "21919       0.684242       6.609091           5.3          0\n",
       "21920       2.077500      16.650000          11.3          0\n",
       "21921       1.476970       9.405556          11.8          0\n",
       "\n",
       "[21922 rows x 4 columns]"
      ]
     },
     "execution_count": 5,
     "metadata": {},
     "output_type": "execute_result"
    }
   ],
   "source": [
    "df"
   ]
  },
  {
   "cell_type": "markdown",
   "id": "647fc8fb",
   "metadata": {},
   "source": [
    "**Correlation Matrix**"
   ]
  },
  {
   "cell_type": "code",
   "execution_count": 6,
   "id": "ffc99bbe",
   "metadata": {
    "scrolled": true
   },
   "outputs": [
    {
     "data": {
      "text/html": [
       "<div>\n",
       "<style scoped>\n",
       "    .dataframe tbody tr th:only-of-type {\n",
       "        vertical-align: middle;\n",
       "    }\n",
       "\n",
       "    .dataframe tbody tr th {\n",
       "        vertical-align: top;\n",
       "    }\n",
       "\n",
       "    .dataframe thead th {\n",
       "        text-align: right;\n",
       "    }\n",
       "</style>\n",
       "<table border=\"1\" class=\"dataframe\">\n",
       "  <thead>\n",
       "    <tr style=\"text-align: right;\">\n",
       "      <th></th>\n",
       "      <th>mean_distance</th>\n",
       "      <th>mean_duration</th>\n",
       "      <th>total_amount</th>\n",
       "      <th>rush_hour</th>\n",
       "    </tr>\n",
       "  </thead>\n",
       "  <tbody>\n",
       "    <tr>\n",
       "      <th>mean_distance</th>\n",
       "      <td>1.000000</td>\n",
       "      <td>0.729569</td>\n",
       "      <td>0.931305</td>\n",
       "      <td>-0.056029</td>\n",
       "    </tr>\n",
       "    <tr>\n",
       "      <th>mean_duration</th>\n",
       "      <td>0.729569</td>\n",
       "      <td>1.000000</td>\n",
       "      <td>0.768602</td>\n",
       "      <td>-0.030214</td>\n",
       "    </tr>\n",
       "    <tr>\n",
       "      <th>total_amount</th>\n",
       "      <td>0.931305</td>\n",
       "      <td>0.768602</td>\n",
       "      <td>1.000000</td>\n",
       "      <td>-0.008330</td>\n",
       "    </tr>\n",
       "    <tr>\n",
       "      <th>rush_hour</th>\n",
       "      <td>-0.056029</td>\n",
       "      <td>-0.030214</td>\n",
       "      <td>-0.008330</td>\n",
       "      <td>1.000000</td>\n",
       "    </tr>\n",
       "  </tbody>\n",
       "</table>\n",
       "</div>"
      ],
      "text/plain": [
       "               mean_distance  mean_duration  total_amount  rush_hour\n",
       "mean_distance       1.000000       0.729569      0.931305  -0.056029\n",
       "mean_duration       0.729569       1.000000      0.768602  -0.030214\n",
       "total_amount        0.931305       0.768602      1.000000  -0.008330\n",
       "rush_hour          -0.056029      -0.030214     -0.008330   1.000000"
      ]
     },
     "execution_count": 6,
     "metadata": {},
     "output_type": "execute_result"
    }
   ],
   "source": [
    "# Create correlation matrix containing pairwise correlation of columns, using pearson correlation coefficient\n",
    "df.corr(method='pearson')"
   ]
  },
  {
   "cell_type": "code",
   "execution_count": 8,
   "id": "8f5c8f5c",
   "metadata": {},
   "outputs": [
    {
     "data": {
      "image/png": "[encoded data removed]",
      "text/plain": [
       "<Figure size 432x288 with 2 Axes>"
      ]
     },
     "metadata": {
      "needs_background": "light"
     },
     "output_type": "display_data"
    }
   ],
   "source": [
    "# Create correlation heatmap\n",
    "\n",
    "plt.figure(figsize=(6,4))\n",
    "sns.heatmap(df.corr(method='pearson'), annot=True, cmap='Reds')\n",
    "plt.title('Correlation heatmap',\n",
    "          fontsize=18)\n",
    "plt.show()"
   ]
  },
  {
   "cell_type": "markdown",
   "id": "99e2e47b",
   "metadata": {},
   "source": [
    "**Exemplar response:** `mean_duration` and `mean_distance` are both highly correlated with the target variable of `total_amount` They're also both correlated with each other, with a Pearson correlation of 0.73.\n",
    "\n",
    "Recall that highly correlated predictor variables can be bad for linear regression models when you want to be able to draw statistical inferences about the data from the model. However, correlated predictor variables can still be used to create an accurate predictor if the prediction itself is more important than using the model as a tool to learn about your data.\n",
    "\n",
    "This model will predict `total_amount`, which will be used as a predictor variable in machine learning models. Therefore, try modeling with both variables even though they are correlated."
   ]
  },
  {
   "cell_type": "code",
   "execution_count": 9,
   "id": "b98c89b8",
   "metadata": {},
   "outputs": [
    {
     "data": {
      "text/html": [
       "<div>\n",
       "<style scoped>\n",
       "    .dataframe tbody tr th:only-of-type {\n",
       "        vertical-align: middle;\n",
       "    }\n",
       "\n",
       "    .dataframe tbody tr th {\n",
       "        vertical-align: top;\n",
       "    }\n",
       "\n",
       "    .dataframe thead th {\n",
       "        text-align: right;\n",
       "    }\n",
       "</style>\n",
       "<table border=\"1\" class=\"dataframe\">\n",
       "  <thead>\n",
       "    <tr style=\"text-align: right;\">\n",
       "      <th></th>\n",
       "      <th>mean_distance</th>\n",
       "      <th>mean_duration</th>\n",
       "      <th>rush_hour</th>\n",
       "    </tr>\n",
       "  </thead>\n",
       "  <tbody>\n",
       "    <tr>\n",
       "      <th>0</th>\n",
       "      <td>3.521667</td>\n",
       "      <td>22.847222</td>\n",
       "      <td>0</td>\n",
       "    </tr>\n",
       "    <tr>\n",
       "      <th>1</th>\n",
       "      <td>3.108889</td>\n",
       "      <td>24.470370</td>\n",
       "      <td>0</td>\n",
       "    </tr>\n",
       "    <tr>\n",
       "      <th>2</th>\n",
       "      <td>0.881429</td>\n",
       "      <td>7.250000</td>\n",
       "      <td>1</td>\n",
       "    </tr>\n",
       "    <tr>\n",
       "      <th>3</th>\n",
       "      <td>3.700000</td>\n",
       "      <td>30.250000</td>\n",
       "      <td>0</td>\n",
       "    </tr>\n",
       "    <tr>\n",
       "      <th>4</th>\n",
       "      <td>4.435000</td>\n",
       "      <td>14.616667</td>\n",
       "      <td>0</td>\n",
       "    </tr>\n",
       "  </tbody>\n",
       "</table>\n",
       "</div>"
      ],
      "text/plain": [
       "   mean_distance  mean_duration  rush_hour\n",
       "0       3.521667      22.847222          0\n",
       "1       3.108889      24.470370          0\n",
       "2       0.881429       7.250000          1\n",
       "3       3.700000      30.250000          0\n",
       "4       4.435000      14.616667          0"
      ]
     },
     "execution_count": 9,
     "metadata": {},
     "output_type": "execute_result"
    }
   ],
   "source": [
    "# Remove the target column from the features\n",
    "X = df.drop(columns=['total_amount'])\n",
    "\n",
    "# Set y variable\n",
    "y = df[['total_amount']]\n",
    "\n",
    "# Display first few rows\n",
    "X.head()"
   ]
  },
  {
   "cell_type": "markdown",
   "id": "2326c39e",
   "metadata": {},
   "source": [
    "**`Variance Inflation Factors (VIF)`**"
   ]
  },
  {
   "cell_type": "code",
   "execution_count": 18,
   "id": "21ba69f0",
   "metadata": {},
   "outputs": [
    {
     "data": {
      "text/plain": [
       "[3.8795989819443535, 4.349104636195067, 1.2858244707901916]"
      ]
     },
     "execution_count": 18,
     "metadata": {},
     "output_type": "execute_result"
    }
   ],
   "source": [
    "vif = [variance_inflation_factor(X.values, i) for i in range(X.shape[1])]\n",
    "vif"
   ]
  },
  {
   "cell_type": "markdown",
   "id": "692e71a8",
   "metadata": {},
   "source": [
    "Calculating the variance inflation factor, or VIF, for each independent (X) variable is a way to quantify how much the variance of each variable is “inflated” due to correlation with other X variables. \n",
    "\n",
    "The smallest value a VIF can take on is 1, which would indicate 0 correlation between the X variable in question and the other predictor variables in the model. A high VIF, such as 5 and above, according to the statsmodels documentation, can indicate the presence of multicollinearity"
   ]
  },
  {
   "cell_type": "markdown",
   "id": "ab6afeba",
   "metadata": {},
   "source": [
    "**Split the data into train/test split**"
   ]
  },
  {
   "cell_type": "code",
   "execution_count": 10,
   "id": "145ec73c",
   "metadata": {},
   "outputs": [],
   "source": [
    "# Create training and testing sets\n",
    "\n",
    "X_train, X_test, y_train, y_test = train_test_split(X, y, test_size=0.2, random_state=0)"
   ]
  },
  {
   "cell_type": "markdown",
   "id": "90d6cb90",
   "metadata": {},
   "source": [
    "**Standarization**"
   ]
  },
  {
   "cell_type": "code",
   "execution_count": 11,
   "id": "be4189aa",
   "metadata": {},
   "outputs": [
    {
     "name": "stdout",
     "output_type": "stream",
     "text": [
      "X_train scaled: [[-0.61146376 -0.88137352 -0.65073635]\n",
      " [-0.5947029  -0.83055308 -0.65073635]\n",
      " [-0.6094622  -0.99629067  1.53672068]\n",
      " ...\n",
      " [ 0.00795581  0.98355282  1.53672068]\n",
      " [-0.48878832 -0.92373603 -0.65073635]\n",
      " [-0.56107499 -0.54869852  1.53672068]]\n"
     ]
    }
   ],
   "source": [
    "# Standardize the X variables\n",
    "scaler = StandardScaler().fit(X_train)\n",
    "X_train_scaled = scaler.transform(X_train)\n",
    "print('X_train scaled:', X_train_scaled)"
   ]
  },
  {
   "cell_type": "code",
   "execution_count": 12,
   "id": "fdc4c0e2",
   "metadata": {},
   "outputs": [
    {
     "data": {
      "text/plain": [
       "LinearRegression()"
      ]
     },
     "execution_count": 12,
     "metadata": {},
     "output_type": "execute_result"
    }
   ],
   "source": [
    "# Fit your model to the training data\n",
    "lr=LinearRegression()\n",
    "lr.fit(X_train_scaled, y_train)"
   ]
  },
  {
   "cell_type": "markdown",
   "id": "2f2c7ae9",
   "metadata": {},
   "source": [
    "**Evaluation metrics for Multiple linear regression**"
   ]
  },
  {
   "cell_type": "code",
   "execution_count": 13,
   "id": "c5ba52c2",
   "metadata": {
    "scrolled": true
   },
   "outputs": [
    {
     "name": "stdout",
     "output_type": "stream",
     "text": [
      "Coefficient of determination: 0.8829108667101775\n",
      "R^2: 0.8829108667101775\n",
      "MAE: 1.8971757841495827\n",
      "MSE: 8.001307172094378\n",
      "RMSE: 2.8286581928706727\n"
     ]
    }
   ],
   "source": [
    "# Evaluate the model performance on the training data\n",
    "r_sq = lr.score(X_train_scaled, y_train)\n",
    "print('Coefficient of determination:', r_sq)\n",
    "y_pred_train = lr.predict(X_train_scaled)\n",
    "print('R^2:', r2_score(y_train, y_pred_train))\n",
    "print('MAE:', mean_absolute_error(y_train, y_pred_train))\n",
    "print('MSE:', mean_squared_error(y_train, y_pred_train))\n",
    "print('RMSE:',np.sqrt(mean_squared_error(y_train, y_pred_train)))"
   ]
  },
  {
   "cell_type": "markdown",
   "id": "6e7c9101",
   "metadata": {},
   "source": [
    "1) `R²: The coefficient of determination`\n",
    "\n",
    "R² measures the proportion of variation in the dependent variable, Y, explained by the independent variable(s), X.\n",
    "\n",
    "•\tThis is calculated by subtracting the sum of squared residuals divided by the total sum of squares from 1.\n",
    "R²=1−Sum of Total sum of squared residuals\n",
    "R² ranges from 0 to 1. So, if a model has an R² of 0.85, that means that the X variables explain about 85% of the variation in the Y variable. Although R² is a highly interpretable and commonly used metric, you may also encounter mean squared error (MSE) and mean absolute error (MAE) when R² is insufficient in evaluating model performance.\n",
    "\n",
    "2) `MSE: Mean squared error`\n",
    "\n",
    "MSE (mean squared error) is the average of the squared difference between the predicted and actual values.\n",
    "•\tBecause of how MSE is calculated, MSE is very sensitive to large errors.\n",
    "\n",
    "3) `MAE: Mean absolute error`\n",
    "\n",
    "MAE (mean absolute error) is the average of the absolute difference between the predicted and actual values.\n",
    "•\tIf your data has outliers that you want to ignore, you can use MAE, as it is not sensitive to large errors.\n",
    "\n",
    "4) `Adjusted R²`\n",
    "\n",
    "The adjusted R-squared penalizes the addition of more independent variables to the multiple regression model. Additionally, the adjusted R-squared only captures the proportion of variation explained by the independent variables that show a significant relationship with the outcome variable. \n",
    "\n",
    "5) `RMSE: Root Mean squared error`\n",
    "\n",
    "RMSE is simply the square root of the MSE. It is particularly useful because it's in the same units as the target variable, making it easier to interpret."
   ]
  },
  {
   "cell_type": "code",
   "execution_count": 14,
   "id": "bca605e5",
   "metadata": {},
   "outputs": [],
   "source": [
    "# Scale the X_test data\n",
    "X_test_scaled = scaler.transform(X_test)"
   ]
  },
  {
   "cell_type": "code",
   "execution_count": 15,
   "id": "ea761309",
   "metadata": {},
   "outputs": [
    {
     "name": "stdout",
     "output_type": "stream",
     "text": [
      "Coefficient of determination: 0.8975550756003271\n",
      "R^2: 0.8975550756003271\n",
      "MAE: 1.8721651452640389\n",
      "MSE: 7.644078558827891\n",
      "RMSE: 2.764792679176486\n"
     ]
    }
   ],
   "source": [
    "# Evaluate the model performance on the testing data\n",
    "r_sq_test = lr.score(X_test_scaled, y_test)\n",
    "print('Coefficient of determination:', r_sq_test)\n",
    "y_pred_test = lr.predict(X_test_scaled)\n",
    "print('R^2:', r2_score(y_test, y_pred_test))\n",
    "print('MAE:', mean_absolute_error(y_test,y_pred_test))\n",
    "print('MSE:', mean_squared_error(y_test, y_pred_test))\n",
    "print('RMSE:',np.sqrt(mean_squared_error(y_test, y_pred_test)))"
   ]
  },
  {
   "cell_type": "code",
   "execution_count": 20,
   "id": "3f91ffa1",
   "metadata": {},
   "outputs": [
    {
     "data": {
      "text/html": [
       "<div>\n",
       "<style scoped>\n",
       "    .dataframe tbody tr th:only-of-type {\n",
       "        vertical-align: middle;\n",
       "    }\n",
       "\n",
       "    .dataframe tbody tr th {\n",
       "        vertical-align: top;\n",
       "    }\n",
       "\n",
       "    .dataframe thead th {\n",
       "        text-align: right;\n",
       "    }\n",
       "</style>\n",
       "<table border=\"1\" class=\"dataframe\">\n",
       "  <thead>\n",
       "    <tr style=\"text-align: right;\">\n",
       "      <th></th>\n",
       "      <th>actual</th>\n",
       "      <th>predicted</th>\n",
       "      <th>residual</th>\n",
       "    </tr>\n",
       "  </thead>\n",
       "  <tbody>\n",
       "    <tr>\n",
       "      <th>21265</th>\n",
       "      <td>5.8</td>\n",
       "      <td>8.381134</td>\n",
       "      <td>-2.581134</td>\n",
       "    </tr>\n",
       "    <tr>\n",
       "      <th>13086</th>\n",
       "      <td>16.3</td>\n",
       "      <td>15.697907</td>\n",
       "      <td>0.602093</td>\n",
       "    </tr>\n",
       "    <tr>\n",
       "      <th>12422</th>\n",
       "      <td>20.8</td>\n",
       "      <td>21.703477</td>\n",
       "      <td>-0.903477</td>\n",
       "    </tr>\n",
       "    <tr>\n",
       "      <th>16447</th>\n",
       "      <td>17.8</td>\n",
       "      <td>14.186204</td>\n",
       "      <td>3.613796</td>\n",
       "    </tr>\n",
       "    <tr>\n",
       "      <th>2901</th>\n",
       "      <td>5.8</td>\n",
       "      <td>6.828493</td>\n",
       "      <td>-1.028493</td>\n",
       "    </tr>\n",
       "  </tbody>\n",
       "</table>\n",
       "</div>"
      ],
      "text/plain": [
       "       actual  predicted  residual\n",
       "21265     5.8   8.381134 -2.581134\n",
       "13086    16.3  15.697907  0.602093\n",
       "12422    20.8  21.703477 -0.903477\n",
       "16447    17.8  14.186204  3.613796\n",
       "2901      5.8   6.828493 -1.028493"
      ]
     },
     "execution_count": 20,
     "metadata": {},
     "output_type": "execute_result"
    }
   ],
   "source": [
    "# Create a `results` dataframe\n",
    "results = pd.DataFrame(data={'actual': y_test['total_amount'],\n",
    "                             'predicted': y_pred_test.ravel()})\n",
    "results['residual'] = results['actual'] - results['predicted']\n",
    "results.head()"
   ]
  },
  {
   "cell_type": "markdown",
   "id": "55b54b7f",
   "metadata": {},
   "source": [
    "**Normality assumption**"
   ]
  },
  {
   "cell_type": "code",
   "execution_count": 22,
   "id": "da949608",
   "metadata": {},
   "outputs": [
    {
     "data": {
      "image/png": "[encoded data removed]",
      "text/plain": [
       "<Figure size 864x432 with 2 Axes>"
      ]
     },
     "metadata": {},
     "output_type": "display_data"
    }
   ],
   "source": [
    "# Create the first plot (histogram)\n",
    "plt.figure(figsize=(12, 6))\n",
    "\n",
    "plt.subplot(1, 2, 1)  # 1 row, 2 columns, first plot\n",
    "sns.histplot(results['residual'], bins=np.arange(-15, 15.5, 0.5))\n",
    "plt.title('Distribution of the residuals')\n",
    "plt.xlabel('Residual value')\n",
    "plt.ylabel('Count')\n",
    "\n",
    "# Create the second plot (scatter plot)\n",
    "plt.subplot(1, 2, 2)  # 1 row, 2 columns, second plot\n",
    "sns.set(style='whitegrid')\n",
    "sns.scatterplot(x='actual',\n",
    "                y='predicted',\n",
    "                data=results,\n",
    "                s=20,\n",
    "                alpha=0.5\n",
    ")\n",
    "# Draw an x=y line to show what the results would be if the model were perfect\n",
    "plt.plot([0, 60], [0, 60], c='red', linewidth=2)\n",
    "plt.title('Actual vs. predicted')\n",
    "\n",
    "# Adjust layout to prevent overlap\n",
    "plt.tight_layout()\n",
    "\n",
    "# Show the plots\n",
    "plt.show()"
   ]
  },
  {
   "cell_type": "markdown",
   "id": "bfbc8745",
   "metadata": {},
   "source": [
    "**Normality: The errors are normally distributed.**"
   ]
  },
  {
   "cell_type": "markdown",
   "id": "a5cf2515",
   "metadata": {},
   "source": [
    "**Homoscedasticity Assumption**"
   ]
  },
  {
   "cell_type": "code",
   "execution_count": 23,
   "id": "f0e8cba5",
   "metadata": {},
   "outputs": [
    {
     "data": {
      "image/png": "[encoded data removed]",
      "text/plain": [
       "<Figure size 432x288 with 1 Axes>"
      ]
     },
     "metadata": {},
     "output_type": "display_data"
    }
   ],
   "source": [
    "# Create a scatterplot of `residuals` over `predicted`\n",
    "\n",
    "sns.scatterplot(x='predicted', y='residual', data=results)\n",
    "plt.axhline(0, c='red')\n",
    "plt.title('Scatterplot of residuals over predicted values')\n",
    "plt.xlabel('predicted value')\n",
    "plt.ylabel('residual value')\n",
    "plt.show()**Normality: The errors are normally distributed.**"
   ]
  },
  {
   "cell_type": "markdown",
   "id": "7ed59b73",
   "metadata": {},
   "source": [
    "**Homoscedasticity: The variation of the errors is constant or similar across the model.**"
   ]
  },
  {
   "cell_type": "code",
   "execution_count": 24,
   "id": "911390c5",
   "metadata": {},
   "outputs": [
    {
     "data": {
      "text/html": [
       "<div>\n",
       "<style scoped>\n",
       "    .dataframe tbody tr th:only-of-type {\n",
       "        vertical-align: middle;\n",
       "    }\n",
       "\n",
       "    .dataframe tbody tr th {\n",
       "        vertical-align: top;\n",
       "    }\n",
       "\n",
       "    .dataframe thead th {\n",
       "        text-align: right;\n",
       "    }\n",
       "</style>\n",
       "<table border=\"1\" class=\"dataframe\">\n",
       "  <thead>\n",
       "    <tr style=\"text-align: right;\">\n",
       "      <th></th>\n",
       "      <th>mean_distance</th>\n",
       "      <th>mean_duration</th>\n",
       "      <th>rush_hour</th>\n",
       "    </tr>\n",
       "  </thead>\n",
       "  <tbody>\n",
       "    <tr>\n",
       "      <th>0</th>\n",
       "      <td>6.556738</td>\n",
       "      <td>1.573258</td>\n",
       "      <td>0.338784</td>\n",
       "    </tr>\n",
       "  </tbody>\n",
       "</table>\n",
       "</div>"
      ],
      "text/plain": [
       "   mean_distance  mean_duration  rush_hour\n",
       "0       6.556738       1.573258   0.338784"
      ]
     },
     "execution_count": 24,
     "metadata": {},
     "output_type": "execute_result"
    }
   ],
   "source": [
    "# Get model coefficients\n",
    "coefficients = pd.DataFrame(lr.coef_, columns=X.columns)\n",
    "coefficients"
   ]
  },
  {
   "cell_type": "code",
   "execution_count": 26,
   "id": "63dcab79",
   "metadata": {},
   "outputs": [
    {
     "name": "stdout",
     "output_type": "stream",
     "text": [
      "2.6894223612118577\n",
      "2.4379725901607823\n"
     ]
    }
   ],
   "source": [
    "# 1. Calculate SD of `mean_distance` in X_train data\n",
    "print(X_train['mean_distance'].std())\n",
    "\n",
    "# 2. Divide the model coefficient by the standard deviation\n",
    "print(6.556738 / X_train['mean_distance'].std())"
   ]
  },
  {
   "cell_type": "markdown",
   "id": "888776d3",
   "metadata": {},
   "source": [
    "Now you can make a more intuitive interpretation: for every 2.689 miles traveled, the fare increased by a mean of \\\\$6.55. Or, reduced: for every 1 mile traveled, the fare increased by a mean of \\\\$2.438."
   ]
  },
  {
   "cell_type": "markdown",
   "id": "9b0314b3",
   "metadata": {},
   "source": [
    "# NOTES\n",
    "\n",
    "1.  When the `mean_distance` and `mean_duration` columns were computed, the means were calculated from the entire dataset. These same columns were then used to train a model that was used to predict on a test set. A test set is supposed to represent entirely new data that the model has not seen before, but in this case, some of its predictor variables were derived using data that *was* in the test set.</br></br>\n",
    "This is known as **<u>data leakage</u>**. Data leakage is when information from your training data contaminates the test data. If your model has unexpectedly high scores, there is a good chance that there was some data leakage.\n",
    "</br></br>\n",
    "To avoid data leakage in this modeling process, it would be best to compute the means using only the training set and then copy those into the test set, thus preventing values from the test set from being included in the computation of the means. This would have created some problems because it's very likely that some combinations of pickup-dropoff locations would only appear in the test data (not the train data). This means that there would be NaNs in the test data, and further steps would be required to address this.\n",
    "</br></br>\n",
    "In this case, the data leakage improved the R<sup>2</sup> score by ~0.03.\n",
    "</br></br>\n",
    "2. Models that predict values to be used in another downstream model are common in data science workflows. When models are deployed, the data cleaning, imputations, splits, predictions, etc. are done using modeling pipelines. Pandas was used here to granularize and explain the concepts of certain steps, but this process would be streamlined by machine learning engineers. The ideas are the same, but the implementation would differ. Once a modeling workflow has been validated, the entire process can be automated, often with no need for pandas and no need to examine outputs at each step. This entire process would be reduced to a page of code."
   ]
  }
 ],
 "metadata": {
  "kernelspec": {
   "display_name": "Python 3 (ipykernel)",
   "language": "python",
   "name": "python3"
  },
  "language_info": {
   "codemirror_mode": {
    "name": "ipython",
    "version": 3
   },
   "file_extension": ".py",
   "mimetype": "text/x-python",
   "name": "python",
   "nbconvert_exporter": "python",
   "pygments_lexer": "ipython3",
   "version": "3.9.12"
  }
 },
 "nbformat": 4,
 "nbformat_minor": 5
}
