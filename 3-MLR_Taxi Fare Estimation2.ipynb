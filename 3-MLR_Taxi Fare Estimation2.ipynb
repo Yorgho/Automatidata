{
 "cells": [
  {
   "cell_type": "markdown",
   "id": "6f50f6a1",
   "metadata": {},
   "source": [
    "## Multiple Linear Regression: (MLR)"
   ]
  },
  {
   "cell_type": "markdown",
   "id": "76e1fc4c",
   "metadata": {},
   "source": [
    "**Multiple linear regression has five main assumptions that provide validity to the results derived from the analysis**\n",
    "1.\tLinearity: Each predictor variable (Xi) is linearly related to the outcome variable (Y).(Already proved in previous steps)\n",
    "2.\t(Multivariate) normality: The errors are normally distributed.*\n",
    "3.\tIndependent observations: Each observation in the dataset is independent.\n",
    "4.\tHomoscedasticity: The variation of the errors is constant or similar across the model.*\n",
    "5.\tNo multicollinearity: No two independent variables (Xi and Xj) can be highly correlated with each other.\n"
   ]
  },
  {
   "cell_type": "code",
   "execution_count": 1,
   "id": "069b0d6c",
   "metadata": {},
   "outputs": [],
   "source": [
    "# Imports\n",
    "# Packages for numerics + dataframes\n",
    "import pandas as pd\n",
    "import numpy as np\n",
    "import math\n",
    "# Packages for visualization\n",
    "import matplotlib.pyplot as plt\n",
    "import seaborn as sns\n",
    "\n",
    "# Packages for date conversions for calculating trip durations\n",
    "from datetime import datetime\n",
    "from datetime import date\n",
    "from datetime import timedelta\n",
    "\n",
    "# Packages for OLS, MLR, confusion matrix\n",
    "import statsmodels.api as sm            #### qqplot Normality model assumption\n",
    "from statsmodels.formula.api import ols ### model creation package\n",
    "from statsmodels.stats.outliers_influence import variance_inflation_factor #### Multicollinearity VIF factor \n",
    "from statsmodels.stats.multicomp import pairwise_tukeyhsd   ##### create post hoc test\n",
    "from sklearn.preprocessing import StandardScaler\n",
    "from sklearn.model_selection import train_test_split\n",
    "import sklearn.metrics as metrics # For confusion matrix\n",
    "from sklearn.linear_model import LinearRegression\n",
    "from sklearn.metrics import mean_absolute_error,r2_score,mean_squared_error"
   ]
  },
  {
   "cell_type": "code",
   "execution_count": 2,
   "id": "c4788ff0",
   "metadata": {},
   "outputs": [],
   "source": [
    "df=pd.read_csv(r\"C:\\Users\\yorgh\\Documents\\Course Materials\\Google Advanced Data Analytics Course\\Datasets Exercise\\Automatidata project\\2017_Yellow_Taxi_Trip_Features_engineering(2).csv\")"
   ]
  },
  {
   "cell_type": "code",
   "execution_count": 3,
   "id": "81beac2c",
   "metadata": {},
   "outputs": [
    {
     "data": {
      "text/html": [
       "<div>\n",
       "<style scoped>\n",
       "    .dataframe tbody tr th:only-of-type {\n",
       "        vertical-align: middle;\n",
       "    }\n",
       "\n",
       "    .dataframe tbody tr th {\n",
       "        vertical-align: top;\n",
       "    }\n",
       "\n",
       "    .dataframe thead th {\n",
       "        text-align: right;\n",
       "    }\n",
       "</style>\n",
       "<table border=\"1\" class=\"dataframe\">\n",
       "  <thead>\n",
       "    <tr style=\"text-align: right;\">\n",
       "      <th></th>\n",
       "      <th>trip_distance</th>\n",
       "      <th>duration</th>\n",
       "      <th>total_amount</th>\n",
       "      <th>rush_hour</th>\n",
       "    </tr>\n",
       "  </thead>\n",
       "  <tbody>\n",
       "    <tr>\n",
       "      <th>0</th>\n",
       "      <td>3.34</td>\n",
       "      <td>14.066667</td>\n",
       "      <td>13.8</td>\n",
       "      <td>0</td>\n",
       "    </tr>\n",
       "    <tr>\n",
       "      <th>1</th>\n",
       "      <td>1.80</td>\n",
       "      <td>26.500000</td>\n",
       "      <td>16.8</td>\n",
       "      <td>0</td>\n",
       "    </tr>\n",
       "    <tr>\n",
       "      <th>2</th>\n",
       "      <td>1.00</td>\n",
       "      <td>7.200000</td>\n",
       "      <td>7.3</td>\n",
       "      <td>1</td>\n",
       "    </tr>\n",
       "    <tr>\n",
       "      <th>3</th>\n",
       "      <td>3.70</td>\n",
       "      <td>30.250000</td>\n",
       "      <td>21.3</td>\n",
       "      <td>0</td>\n",
       "    </tr>\n",
       "    <tr>\n",
       "      <th>4</th>\n",
       "      <td>4.37</td>\n",
       "      <td>16.716667</td>\n",
       "      <td>17.8</td>\n",
       "      <td>0</td>\n",
       "    </tr>\n",
       "    <tr>\n",
       "      <th>...</th>\n",
       "      <td>...</td>\n",
       "      <td>...</td>\n",
       "      <td>...</td>\n",
       "      <td>...</td>\n",
       "    </tr>\n",
       "    <tr>\n",
       "      <th>21917</th>\n",
       "      <td>0.89</td>\n",
       "      <td>9.450000</td>\n",
       "      <td>8.8</td>\n",
       "      <td>0</td>\n",
       "    </tr>\n",
       "    <tr>\n",
       "      <th>21918</th>\n",
       "      <td>0.61</td>\n",
       "      <td>3.266667</td>\n",
       "      <td>5.8</td>\n",
       "      <td>1</td>\n",
       "    </tr>\n",
       "    <tr>\n",
       "      <th>21919</th>\n",
       "      <td>0.42</td>\n",
       "      <td>4.133333</td>\n",
       "      <td>5.3</td>\n",
       "      <td>0</td>\n",
       "    </tr>\n",
       "    <tr>\n",
       "      <th>21920</th>\n",
       "      <td>2.36</td>\n",
       "      <td>11.933333</td>\n",
       "      <td>11.3</td>\n",
       "      <td>0</td>\n",
       "    </tr>\n",
       "    <tr>\n",
       "      <th>21921</th>\n",
       "      <td>2.10</td>\n",
       "      <td>13.333333</td>\n",
       "      <td>11.8</td>\n",
       "      <td>0</td>\n",
       "    </tr>\n",
       "  </tbody>\n",
       "</table>\n",
       "<p>21922 rows × 4 columns</p>\n",
       "</div>"
      ],
      "text/plain": [
       "       trip_distance   duration  total_amount  rush_hour\n",
       "0               3.34  14.066667          13.8          0\n",
       "1               1.80  26.500000          16.8          0\n",
       "2               1.00   7.200000           7.3          1\n",
       "3               3.70  30.250000          21.3          0\n",
       "4               4.37  16.716667          17.8          0\n",
       "...              ...        ...           ...        ...\n",
       "21917           0.89   9.450000           8.8          0\n",
       "21918           0.61   3.266667           5.8          1\n",
       "21919           0.42   4.133333           5.3          0\n",
       "21920           2.36  11.933333          11.3          0\n",
       "21921           2.10  13.333333          11.8          0\n",
       "\n",
       "[21922 rows x 4 columns]"
      ]
     },
     "execution_count": 3,
     "metadata": {},
     "output_type": "execute_result"
    }
   ],
   "source": [
    "df"
   ]
  },
  {
   "cell_type": "markdown",
   "id": "ff78d675",
   "metadata": {},
   "source": [
    "**Correlation Matrix**"
   ]
  },
  {
   "cell_type": "code",
   "execution_count": 4,
   "id": "0dfa464c",
   "metadata": {
    "scrolled": true
   },
   "outputs": [
    {
     "data": {
      "text/html": [
       "<div>\n",
       "<style scoped>\n",
       "    .dataframe tbody tr th:only-of-type {\n",
       "        vertical-align: middle;\n",
       "    }\n",
       "\n",
       "    .dataframe tbody tr th {\n",
       "        vertical-align: top;\n",
       "    }\n",
       "\n",
       "    .dataframe thead th {\n",
       "        text-align: right;\n",
       "    }\n",
       "</style>\n",
       "<table border=\"1\" class=\"dataframe\">\n",
       "  <thead>\n",
       "    <tr style=\"text-align: right;\">\n",
       "      <th></th>\n",
       "      <th>trip_distance</th>\n",
       "      <th>duration</th>\n",
       "      <th>total_amount</th>\n",
       "      <th>rush_hour</th>\n",
       "    </tr>\n",
       "  </thead>\n",
       "  <tbody>\n",
       "    <tr>\n",
       "      <th>trip_distance</th>\n",
       "      <td>1.000000</td>\n",
       "      <td>0.744743</td>\n",
       "      <td>0.949821</td>\n",
       "      <td>-0.055960</td>\n",
       "    </tr>\n",
       "    <tr>\n",
       "      <th>duration</th>\n",
       "      <td>0.744743</td>\n",
       "      <td>1.000000</td>\n",
       "      <td>0.887939</td>\n",
       "      <td>0.016588</td>\n",
       "    </tr>\n",
       "    <tr>\n",
       "      <th>total_amount</th>\n",
       "      <td>0.949821</td>\n",
       "      <td>0.887939</td>\n",
       "      <td>1.000000</td>\n",
       "      <td>-0.008330</td>\n",
       "    </tr>\n",
       "    <tr>\n",
       "      <th>rush_hour</th>\n",
       "      <td>-0.055960</td>\n",
       "      <td>0.016588</td>\n",
       "      <td>-0.008330</td>\n",
       "      <td>1.000000</td>\n",
       "    </tr>\n",
       "  </tbody>\n",
       "</table>\n",
       "</div>"
      ],
      "text/plain": [
       "               trip_distance  duration  total_amount  rush_hour\n",
       "trip_distance       1.000000  0.744743      0.949821  -0.055960\n",
       "duration            0.744743  1.000000      0.887939   0.016588\n",
       "total_amount        0.949821  0.887939      1.000000  -0.008330\n",
       "rush_hour          -0.055960  0.016588     -0.008330   1.000000"
      ]
     },
     "execution_count": 4,
     "metadata": {},
     "output_type": "execute_result"
    }
   ],
   "source": [
    "# Create correlation matrix containing pairwise correlation of columns, using pearson correlation coefficient\n",
    "df.corr(method='pearson')"
   ]
  },
  {
   "cell_type": "code",
   "execution_count": 5,
   "id": "ad7f7547",
   "metadata": {},
   "outputs": [
    {
     "data": {
      "image/png": "[encoded data removed]",
      "text/plain": [
       "<Figure size 432x288 with 2 Axes>"
      ]
     },
     "metadata": {
      "needs_background": "light"
     },
     "output_type": "display_data"
    }
   ],
   "source": [
    "# Create correlation heatmap\n",
    "\n",
    "plt.figure(figsize=(6,4))\n",
    "sns.heatmap(df.corr(method='pearson'), annot=True, cmap='Reds')\n",
    "plt.title('Correlation heatmap',\n",
    "          fontsize=18)\n",
    "plt.show()"
   ]
  },
  {
   "cell_type": "markdown",
   "id": "7686f833",
   "metadata": {},
   "source": [
    "**Exemplar response:** `duration` and `trip_distance` are both highly correlated with the target variable of `total_amount` They're also both correlated with each other, with a Pearson correlation of 0.74.\n",
    "\n",
    "Recall that highly correlated predictor variables can be bad for linear regression models when you want to be able to draw statistical inferences about the data from the model. However, correlated predictor variables can still be used to create an accurate predictor if the prediction itself is more important than using the model as a tool to learn about your data.\n",
    "\n",
    "This model will predict `total_amount`, which will be used as a predictor variable in machine learning models. Therefore, try modeling with both variables even though they are correlated."
   ]
  },
  {
   "cell_type": "code",
   "execution_count": 6,
   "id": "0e6e4e72",
   "metadata": {},
   "outputs": [
    {
     "data": {
      "text/html": [
       "<div>\n",
       "<style scoped>\n",
       "    .dataframe tbody tr th:only-of-type {\n",
       "        vertical-align: middle;\n",
       "    }\n",
       "\n",
       "    .dataframe tbody tr th {\n",
       "        vertical-align: top;\n",
       "    }\n",
       "\n",
       "    .dataframe thead th {\n",
       "        text-align: right;\n",
       "    }\n",
       "</style>\n",
       "<table border=\"1\" class=\"dataframe\">\n",
       "  <thead>\n",
       "    <tr style=\"text-align: right;\">\n",
       "      <th></th>\n",
       "      <th>trip_distance</th>\n",
       "      <th>duration</th>\n",
       "      <th>rush_hour</th>\n",
       "    </tr>\n",
       "  </thead>\n",
       "  <tbody>\n",
       "    <tr>\n",
       "      <th>0</th>\n",
       "      <td>3.34</td>\n",
       "      <td>14.066667</td>\n",
       "      <td>0</td>\n",
       "    </tr>\n",
       "    <tr>\n",
       "      <th>1</th>\n",
       "      <td>1.80</td>\n",
       "      <td>26.500000</td>\n",
       "      <td>0</td>\n",
       "    </tr>\n",
       "    <tr>\n",
       "      <th>2</th>\n",
       "      <td>1.00</td>\n",
       "      <td>7.200000</td>\n",
       "      <td>1</td>\n",
       "    </tr>\n",
       "    <tr>\n",
       "      <th>3</th>\n",
       "      <td>3.70</td>\n",
       "      <td>30.250000</td>\n",
       "      <td>0</td>\n",
       "    </tr>\n",
       "    <tr>\n",
       "      <th>4</th>\n",
       "      <td>4.37</td>\n",
       "      <td>16.716667</td>\n",
       "      <td>0</td>\n",
       "    </tr>\n",
       "  </tbody>\n",
       "</table>\n",
       "</div>"
      ],
      "text/plain": [
       "   trip_distance   duration  rush_hour\n",
       "0           3.34  14.066667          0\n",
       "1           1.80  26.500000          0\n",
       "2           1.00   7.200000          1\n",
       "3           3.70  30.250000          0\n",
       "4           4.37  16.716667          0"
      ]
     },
     "execution_count": 6,
     "metadata": {},
     "output_type": "execute_result"
    }
   ],
   "source": [
    "# Remove the target column from the features\n",
    "X = df.drop(columns=['total_amount'])\n",
    "\n",
    "# Set y variable\n",
    "y = df[['total_amount']]\n",
    "\n",
    "# Display first few rows\n",
    "X.head()"
   ]
  },
  {
   "cell_type": "markdown",
   "id": "bfd16a27",
   "metadata": {},
   "source": [
    "**`Variance Inflation Factors (VIF)`**"
   ]
  },
  {
   "cell_type": "code",
   "execution_count": 7,
   "id": "fc79c01b",
   "metadata": {},
   "outputs": [
    {
     "data": {
      "text/plain": [
       "[4.1652891443585585, 4.6811228266852085, 1.2930118228806489]"
      ]
     },
     "execution_count": 7,
     "metadata": {},
     "output_type": "execute_result"
    }
   ],
   "source": [
    "vif = [variance_inflation_factor(X.values, i) for i in range(X.shape[1])]\n",
    "vif"
   ]
  },
  {
   "cell_type": "markdown",
   "id": "8a20e029",
   "metadata": {},
   "source": [
    "Calculating the variance inflation factor, or VIF, for each independent (X) variable is a way to quantify how much the variance of each variable is “inflated” due to correlation with other X variables. \n",
    "\n",
    "The smallest value a VIF can take on is 1, which would indicate 0 correlation between the X variable in question and the other predictor variables in the model. A high VIF, such as 5 and above, according to the statsmodels documentation, can indicate the presence of multicollinearity"
   ]
  },
  {
   "cell_type": "markdown",
   "id": "9fae3a56",
   "metadata": {},
   "source": [
    "**Split the data into train/test split**"
   ]
  },
  {
   "cell_type": "code",
   "execution_count": 8,
   "id": "bf6ff905",
   "metadata": {},
   "outputs": [],
   "source": [
    "# Create training and testing sets\n",
    "\n",
    "X_train, X_test, y_train, y_test = train_test_split(X, y, test_size=0.2, random_state=0)"
   ]
  },
  {
   "cell_type": "markdown",
   "id": "d5a7c6df",
   "metadata": {},
   "source": [
    "**Standarization**"
   ]
  },
  {
   "cell_type": "code",
   "execution_count": 9,
   "id": "1508e709",
   "metadata": {},
   "outputs": [
    {
     "name": "stdout",
     "output_type": "stream",
     "text": [
      "X_train scaled: [[-0.469971   -0.41134202 -0.65073635]\n",
      " [-0.48825265 -0.94127929 -0.65073635]\n",
      " [-0.48825265 -0.40398178  1.53672068]\n",
      " ...\n",
      " [ 0.06385305  0.51052804  1.53672068]\n",
      " [-0.48825265 -0.66159018 -0.65073635]\n",
      " [-0.63450581  1.75808871  1.53672068]]\n"
     ]
    }
   ],
   "source": [
    "# Standardize the X variables\n",
    "scaler = StandardScaler().fit(X_train)\n",
    "X_train_scaled = scaler.transform(X_train)\n",
    "print('X_train scaled:', X_train_scaled)"
   ]
  },
  {
   "cell_type": "code",
   "execution_count": 10,
   "id": "1642226b",
   "metadata": {},
   "outputs": [
    {
     "data": {
      "text/plain": [
       "LinearRegression()"
      ]
     },
     "execution_count": 10,
     "metadata": {},
     "output_type": "execute_result"
    }
   ],
   "source": [
    "# Fit your model to the training data\n",
    "lr=LinearRegression()\n",
    "lr.fit(X_train_scaled, y_train)"
   ]
  },
  {
   "cell_type": "markdown",
   "id": "dec0ecf6",
   "metadata": {},
   "source": [
    "**Evaluation metrics for Multiple linear regression**"
   ]
  },
  {
   "cell_type": "code",
   "execution_count": 11,
   "id": "6ced7497",
   "metadata": {
    "scrolled": true
   },
   "outputs": [
    {
     "name": "stdout",
     "output_type": "stream",
     "text": [
      "Coefficient of determination: 0.9737214203495708\n",
      "R^2: 0.9737214203495708\n",
      "MAE: 0.5882997654513837\n",
      "MSE: 1.795751509313709\n",
      "RMSE: 1.3400565321335176\n"
     ]
    }
   ],
   "source": [
    "# Evaluate the model performance on the training data\n",
    "r_sq = lr.score(X_train_scaled, y_train)\n",
    "print('Coefficient of determination:', r_sq)\n",
    "y_pred_train = lr.predict(X_train_scaled)\n",
    "print('R^2:', r2_score(y_train, y_pred_train))\n",
    "print('MAE:', mean_absolute_error(y_train, y_pred_train))\n",
    "print('MSE:', mean_squared_error(y_train, y_pred_train))\n",
    "print('RMSE:',np.sqrt(mean_squared_error(y_train, y_pred_train)))"
   ]
  },
  {
   "cell_type": "markdown",
   "id": "5bbbeafd",
   "metadata": {},
   "source": [
    "1) `R²: The coefficient of determination`\n",
    "\n",
    "R² measures the proportion of variation in the dependent variable, Y, explained by the independent variable(s), X.\n",
    "\n",
    "•\tThis is calculated by subtracting the sum of squared residuals divided by the total sum of squares from 1.\n",
    "R²=1−Sum of Total sum of squared residuals\n",
    "R² ranges from 0 to 1. So, if a model has an R² of 0.85, that means that the X variables explain about 85% of the variation in the Y variable. Although R² is a highly interpretable and commonly used metric, you may also encounter mean squared error (MSE) and mean absolute error (MAE) when R² is insufficient in evaluating model performance.\n",
    "\n",
    "2) `MSE: Mean squared error`\n",
    "\n",
    "MSE (mean squared error) is the average of the squared difference between the predicted and actual values.\n",
    "•\tBecause of how MSE is calculated, MSE is very sensitive to large errors.\n",
    "\n",
    "3) `MAE: Mean absolute error`\n",
    "\n",
    "MAE (mean absolute error) is the average of the absolute difference between the predicted and actual values.\n",
    "•\tIf your data has outliers that you want to ignore, you can use MAE, as it is not sensitive to large errors.\n",
    "\n",
    "4) `Adjusted R²`\n",
    "\n",
    "The adjusted R-squared penalizes the addition of more independent variables to the multiple regression model. Additionally, the adjusted R-squared only captures the proportion of variation explained by the independent variables that show a significant relationship with the outcome variable. \n",
    "\n",
    "5) `RMSE: Root Mean squared error`\n",
    "\n",
    "RMSE is simply the square root of the MSE. It is particularly useful because it's in the same units as the target variable, making it easier to interpret."
   ]
  },
  {
   "cell_type": "code",
   "execution_count": 12,
   "id": "b920683d",
   "metadata": {},
   "outputs": [],
   "source": [
    "# Scale the X_test data\n",
    "X_test_scaled = scaler.transform(X_test)"
   ]
  },
  {
   "cell_type": "code",
   "execution_count": 13,
   "id": "7af57644",
   "metadata": {},
   "outputs": [
    {
     "name": "stdout",
     "output_type": "stream",
     "text": [
      "Coefficient of determination: 0.9834805900559194\n",
      "R^2: 0.9834805900559194\n",
      "MAE: 0.5637309499858665\n",
      "MSE: 1.2326200453366565\n",
      "RMSE: 1.1102342299427885\n"
     ]
    }
   ],
   "source": [
    "# Evaluate the model performance on the testing data\n",
    "r_sq_test = lr.score(X_test_scaled, y_test)\n",
    "print('Coefficient of determination:', r_sq_test)\n",
    "y_pred_test = lr.predict(X_test_scaled)\n",
    "print('R^2:', r2_score(y_test, y_pred_test))\n",
    "print('MAE:', mean_absolute_error(y_test,y_pred_test))\n",
    "print('MSE:', mean_squared_error(y_test, y_pred_test))\n",
    "print('RMSE:',np.sqrt(mean_squared_error(y_test, y_pred_test)))"
   ]
  },
  {
   "cell_type": "code",
   "execution_count": 14,
   "id": "2e23cbce",
   "metadata": {},
   "outputs": [
    {
     "data": {
      "text/html": [
       "<div>\n",
       "<style scoped>\n",
       "    .dataframe tbody tr th:only-of-type {\n",
       "        vertical-align: middle;\n",
       "    }\n",
       "\n",
       "    .dataframe tbody tr th {\n",
       "        vertical-align: top;\n",
       "    }\n",
       "\n",
       "    .dataframe thead th {\n",
       "        text-align: right;\n",
       "    }\n",
       "</style>\n",
       "<table border=\"1\" class=\"dataframe\">\n",
       "  <thead>\n",
       "    <tr style=\"text-align: right;\">\n",
       "      <th></th>\n",
       "      <th>actual</th>\n",
       "      <th>predicted</th>\n",
       "      <th>residual</th>\n",
       "    </tr>\n",
       "  </thead>\n",
       "  <tbody>\n",
       "    <tr>\n",
       "      <th>21265</th>\n",
       "      <td>5.8</td>\n",
       "      <td>6.161323</td>\n",
       "      <td>-0.361323</td>\n",
       "    </tr>\n",
       "    <tr>\n",
       "      <th>13086</th>\n",
       "      <td>16.3</td>\n",
       "      <td>16.334842</td>\n",
       "      <td>-0.034842</td>\n",
       "    </tr>\n",
       "    <tr>\n",
       "      <th>12422</th>\n",
       "      <td>20.8</td>\n",
       "      <td>21.586118</td>\n",
       "      <td>-0.786118</td>\n",
       "    </tr>\n",
       "    <tr>\n",
       "      <th>16447</th>\n",
       "      <td>17.8</td>\n",
       "      <td>18.205179</td>\n",
       "      <td>-0.405179</td>\n",
       "    </tr>\n",
       "    <tr>\n",
       "      <th>2901</th>\n",
       "      <td>5.8</td>\n",
       "      <td>5.433066</td>\n",
       "      <td>0.366934</td>\n",
       "    </tr>\n",
       "  </tbody>\n",
       "</table>\n",
       "</div>"
      ],
      "text/plain": [
       "       actual  predicted  residual\n",
       "21265     5.8   6.161323 -0.361323\n",
       "13086    16.3  16.334842 -0.034842\n",
       "12422    20.8  21.586118 -0.786118\n",
       "16447    17.8  18.205179 -0.405179\n",
       "2901      5.8   5.433066  0.366934"
      ]
     },
     "execution_count": 14,
     "metadata": {},
     "output_type": "execute_result"
    }
   ],
   "source": [
    "# Create a `results` dataframe\n",
    "results = pd.DataFrame(data={'actual': y_test['total_amount'],\n",
    "                             'predicted': y_pred_test.ravel()})\n",
    "results['residual'] = results['actual'] - results['predicted']\n",
    "results.head()"
   ]
  },
  {
   "cell_type": "markdown",
   "id": "03e8acc0",
   "metadata": {},
   "source": [
    "**Normality assumption**"
   ]
  },
  {
   "cell_type": "code",
   "execution_count": 15,
   "id": "508822e6",
   "metadata": {},
   "outputs": [
    {
     "data": {
      "image/png": "[encoded data removed]",
      "text/plain": [
       "<Figure size 864x432 with 2 Axes>"
      ]
     },
     "metadata": {
      "needs_background": "light"
     },
     "output_type": "display_data"
    }
   ],
   "source": [
    "# Create the first plot (histogram)\n",
    "plt.figure(figsize=(12, 6))\n",
    "\n",
    "plt.subplot(1, 2, 1)  # 1 row, 2 columns, first plot\n",
    "sns.histplot(results['residual'], bins=np.arange(-15, 15.5, 0.5))\n",
    "plt.title('Distribution of the residuals')\n",
    "plt.xlabel('Residual value')\n",
    "plt.ylabel('Count')\n",
    "\n",
    "# Create the second plot (scatter plot)\n",
    "plt.subplot(1, 2, 2)  # 1 row, 2 columns, second plot\n",
    "sns.set(style='whitegrid')\n",
    "sns.scatterplot(x='actual',\n",
    "                y='predicted',\n",
    "                data=results,\n",
    "                s=20,\n",
    "                alpha=0.5\n",
    ")\n",
    "# Draw an x=y line to show what the results would be if the model were perfect\n",
    "plt.plot([0, 60], [0, 60], c='red', linewidth=2)\n",
    "plt.title('Actual vs. predicted')\n",
    "\n",
    "# Adjust layout to prevent overlap\n",
    "plt.tight_layout()\n",
    "\n",
    "# Show the plots\n",
    "plt.show()"
   ]
  },
  {
   "cell_type": "markdown",
   "id": "9c9cbe18",
   "metadata": {},
   "source": [
    "**Normality: The errors are normally distributed.**"
   ]
  },
  {
   "cell_type": "markdown",
   "id": "34d2e81f",
   "metadata": {},
   "source": [
    "**Homoscedasticity Assumption**"
   ]
  },
  {
   "cell_type": "code",
   "execution_count": 17,
   "id": "2fa2f6ed",
   "metadata": {},
   "outputs": [
    {
     "data": {
      "image/png": "[encoded data removed]",
      "text/plain": [
       "<Figure size 432x288 with 1 Axes>"
      ]
     },
     "metadata": {},
     "output_type": "display_data"
    }
   ],
   "source": [
    "# Create a scatterplot of `residuals` over `predicted`\n",
    "\n",
    "sns.scatterplot(x='predicted', y='residual', data=results)\n",
    "plt.axhline(0, c='red')\n",
    "plt.title('Scatterplot of residuals over predicted values')\n",
    "plt.xlabel('predicted value')\n",
    "plt.ylabel('residual value')\n",
    "plt.show()"
   ]
  },
  {
   "cell_type": "markdown",
   "id": "f2567fe9",
   "metadata": {},
   "source": [
    "**Normality: The errors are normally distributed.**"
   ]
  },
  {
   "cell_type": "markdown",
   "id": "545c5caf",
   "metadata": {},
   "source": [
    "**Homoscedasticity: The variation of the errors is constant or similar across the model.**"
   ]
  },
  {
   "cell_type": "code",
   "execution_count": 18,
   "id": "62e37c9f",
   "metadata": {},
   "outputs": [
    {
     "data": {
      "text/html": [
       "<div>\n",
       "<style scoped>\n",
       "    .dataframe tbody tr th:only-of-type {\n",
       "        vertical-align: middle;\n",
       "    }\n",
       "\n",
       "    .dataframe tbody tr th {\n",
       "        vertical-align: top;\n",
       "    }\n",
       "\n",
       "    .dataframe thead th {\n",
       "        text-align: right;\n",
       "    }\n",
       "</style>\n",
       "<table border=\"1\" class=\"dataframe\">\n",
       "  <thead>\n",
       "    <tr style=\"text-align: right;\">\n",
       "      <th></th>\n",
       "      <th>trip_distance</th>\n",
       "      <th>duration</th>\n",
       "      <th>rush_hour</th>\n",
       "    </tr>\n",
       "  </thead>\n",
       "  <tbody>\n",
       "    <tr>\n",
       "      <th>0</th>\n",
       "      <td>5.356858</td>\n",
       "      <td>3.352368</td>\n",
       "      <td>0.178915</td>\n",
       "    </tr>\n",
       "  </tbody>\n",
       "</table>\n",
       "</div>"
      ],
      "text/plain": [
       "   trip_distance  duration  rush_hour\n",
       "0       5.356858  3.352368   0.178915"
      ]
     },
     "execution_count": 18,
     "metadata": {},
     "output_type": "execute_result"
    }
   ],
   "source": [
    "# Get model coefficients\n",
    "coefficients = pd.DataFrame(lr.coef_, columns=X.columns)\n",
    "coefficients"
   ]
  },
  {
   "cell_type": "code",
   "execution_count": 21,
   "id": "b9597cb8",
   "metadata": {},
   "outputs": [
    {
     "name": "stdout",
     "output_type": "stream",
     "text": [
      "2.735061519290655\n",
      "1.958587754687622\n"
     ]
    }
   ],
   "source": [
    "# 1. Calculate SD of `mean_distance` in X_train data\n",
    "print(X_train['trip_distance'].std())\n",
    "\n",
    "# 2. Divide the model coefficient by the standard deviation\n",
    "print(5.356858 / X_train['trip_distance'].std())"
   ]
  },
  {
   "cell_type": "markdown",
   "id": "8f9a23fa",
   "metadata": {},
   "source": [
    "Now you can make a more intuitive interpretation: for every 2.735 miles traveled, the fare increased by a mean of \\\\$5.35. Or, reduced: for every 1 mile traveled, the fare increased by a mean of \\\\$1.958."
   ]
  }
 ],
 "metadata": {
  "kernelspec": {
   "display_name": "Python 3 (ipykernel)",
   "language": "python",
   "name": "python3"
  },
  "language_info": {
   "codemirror_mode": {
    "name": "ipython",
    "version": 3
   },
   "file_extension": ".py",
   "mimetype": "text/x-python",
   "name": "python",
   "nbconvert_exporter": "python",
   "pygments_lexer": "ipython3",
   "version": "3.9.12"
  }
 },
 "nbformat": 4,
 "nbformat_minor": 5
}
